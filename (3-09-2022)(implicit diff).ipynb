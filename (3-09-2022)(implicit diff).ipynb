{
 "cells": [
  {
   "cell_type": "code",
   "execution_count": 2,
   "id": "26855174",
   "metadata": {},
   "outputs": [],
   "source": [
    "from sympy import *\n",
    "import math\n",
    "import sympy as smp"
   ]
  },
  {
   "cell_type": "code",
   "execution_count": 3,
   "id": "754a95de",
   "metadata": {},
   "outputs": [],
   "source": [
    "x, y, z = smp.symbols('x y z')"
   ]
  },
  {
   "cell_type": "code",
   "execution_count": 3,
   "id": "da86c9df",
   "metadata": {},
   "outputs": [
    {
     "data": {
      "text/latex": [
       "$\\displaystyle \\frac{2 x}{y}$"
      ],
      "text/plain": [
       "2*x/y"
      ]
     },
     "execution_count": 3,
     "metadata": {},
     "output_type": "execute_result"
    }
   ],
   "source": [
    "f = idiff(4*x**2-2*y**2-9,y,x)   #first derivative\n",
    "f"
   ]
  },
  {
   "cell_type": "code",
   "execution_count": 4,
   "id": "cd696e38",
   "metadata": {},
   "outputs": [
    {
     "data": {
      "text/latex": [
       "$\\displaystyle \\frac{2 \\left(- \\frac{2 x^{2}}{y} + y\\right)}{y^{2}}$"
      ],
      "text/plain": [
       "2*(-2*x**2/y + y)/y**2"
      ]
     },
     "execution_count": 4,
     "metadata": {},
     "output_type": "execute_result"
    }
   ],
   "source": [
    "f = idiff(4*x**2-2*y**2-9,y,x,2)  #2nd derivative\n",
    "f"
   ]
  },
  {
   "cell_type": "code",
   "execution_count": 5,
   "id": "981a4ff9",
   "metadata": {},
   "outputs": [
    {
     "data": {
      "text/latex": [
       "$\\displaystyle \\frac{- 3 x^{2} y^{2} + 10 x y - 1}{x^{2} \\left(2 x y - 5\\right)}$"
      ],
      "text/plain": [
       "(-3*x**2*y**2 + 10*x*y - 1)/(x**2*(2*x*y - 5))"
      ]
     },
     "execution_count": 5,
     "metadata": {},
     "output_type": "execute_result"
    }
   ],
   "source": [
    "f1 = idiff(x**3*y**2-5*x**2*y+x-1,y,x)\n",
    "f1"
   ]
  },
  {
   "cell_type": "code",
   "execution_count": 9,
   "id": "3823f3fa",
   "metadata": {},
   "outputs": [
    {
     "data": {
      "text/latex": [
       "$\\displaystyle - \\frac{y}{x} + \\frac{1}{2 x^{2} y \\cos{\\left(x^{2} y^{2} \\right)}}$"
      ],
      "text/plain": [
       "-y/x + 1/(2*x**2*y*cos(x**2*y**2))"
      ]
     },
     "execution_count": 9,
     "metadata": {},
     "output_type": "execute_result"
    }
   ],
   "source": [
    "f2 = idiff(sin((x**2)*(y**2))-x, y,x)\n",
    "f2"
   ]
  },
  {
   "cell_type": "code",
   "execution_count": 10,
   "id": "7bbe4acd",
   "metadata": {},
   "outputs": [
    {
     "data": {
      "text/latex": [
       "$\\displaystyle \\frac{\\left(- y^{2} \\tan^{4}{\\left(y \\left(x y + 1\\right) \\right)} - y^{2} \\tan^{2}{\\left(y \\left(x y + 1\\right) \\right)} + \\frac{1}{3}\\right) \\cos^{2}{\\left(y \\left(x y + 1\\right) \\right)}}{\\left(2 x y + 1\\right) \\tan^{2}{\\left(y \\left(x y + 1\\right) \\right)}}$"
      ],
      "text/plain": [
       "(-y**2*tan(y*(x*y + 1))**4 - y**2*tan(y*(x*y + 1))**2 + 1/3)*cos(y*(x*y + 1))**2/((2*x*y + 1)*tan(y*(x*y + 1))**2)"
      ]
     },
     "execution_count": 10,
     "metadata": {},
     "output_type": "execute_result"
    }
   ],
   "source": [
    "f3 = idiff((tan((x*y**2)+y))**3-x, y,x)\n",
    "f3"
   ]
  },
  {
   "cell_type": "code",
   "execution_count": 15,
   "id": "e0c2e270",
   "metadata": {},
   "outputs": [],
   "source": [
    "f4 = ((smp.sin(6*x))*(smp.cos(4*x)))\n",
    "df4 = diff(f4, x, 3)"
   ]
  },
  {
   "cell_type": "code",
   "execution_count": 16,
   "id": "0d7d91ed",
   "metadata": {},
   "outputs": [
    {
     "data": {
      "text/latex": [
       "$\\displaystyle 8 \\left(62 \\sin{\\left(4 x \\right)} \\sin{\\left(6 x \\right)} - 63 \\cos{\\left(4 x \\right)} \\cos{\\left(6 x \\right)}\\right)$"
      ],
      "text/plain": [
       "8*(62*sin(4*x)*sin(6*x) - 63*cos(4*x)*cos(6*x))"
      ]
     },
     "execution_count": 16,
     "metadata": {},
     "output_type": "execute_result"
    }
   ],
   "source": [
    "df4"
   ]
  },
  {
   "cell_type": "code",
   "execution_count": 5,
   "id": "8de4e495",
   "metadata": {},
   "outputs": [
    {
     "data": {
      "text/latex": [
       "$\\displaystyle \\frac{y \\left(\\sec{\\left(y \\right)} + 1\\right)}{x y \\tan{\\left(y \\right)} \\sec{\\left(y \\right)} - 3 x \\sec{\\left(y \\right)} - 3 x + 4 y \\sec^{2}{\\left(y \\right)} + 8 y \\sec{\\left(y \\right)} + 4 y}$"
      ],
      "text/plain": [
       "y*(sec(y) + 1)/(x*y*tan(y)*sec(y) - 3*x*sec(y) - 3*x + 4*y*sec(y)**2 + 8*y*sec(y) + 4*y)"
      ]
     },
     "execution_count": 5,
     "metadata": {},
     "output_type": "execute_result"
    }
   ],
   "source": [
    "f5 = idiff(((x*y**3)/(1+(smp.sec(y))))-(1+y**4),y,x)\n",
    "f5"
   ]
  },
  {
   "cell_type": "code",
   "execution_count": null,
   "id": "984eb48a",
   "metadata": {},
   "outputs": [],
   "source": []
  }
 ],
 "metadata": {
  "kernelspec": {
   "display_name": "Python 3 (ipykernel)",
   "language": "python",
   "name": "python3"
  },
  "language_info": {
   "codemirror_mode": {
    "name": "ipython",
    "version": 3
   },
   "file_extension": ".py",
   "mimetype": "text/x-python",
   "name": "python",
   "nbconvert_exporter": "python",
   "pygments_lexer": "ipython3",
   "version": "3.9.7"
  }
 },
 "nbformat": 4,
 "nbformat_minor": 5
}
