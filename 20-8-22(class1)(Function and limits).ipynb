{
 "cells": [
  {
   "cell_type": "code",
   "execution_count": 2,
   "id": "dbc5f1f5",
   "metadata": {},
   "outputs": [],
   "source": [
    "import matplotlib.pyplot as plt\n",
    "import sympy as smp\n",
    "from sympy import *"
   ]
  },
  {
   "cell_type": "code",
   "execution_count": 3,
   "id": "df6bb503",
   "metadata": {},
   "outputs": [],
   "source": [
    "x,y = smp.symbols('x y')"
   ]
  },
  {
   "cell_type": "code",
   "execution_count": 4,
   "id": "87a47299",
   "metadata": {},
   "outputs": [
    {
     "data": {
      "text/latex": [
       "$\\displaystyle 0$"
      ],
      "text/plain": [
       "0"
      ]
     },
     "execution_count": 4,
     "metadata": {},
     "output_type": "execute_result"
    }
   ],
   "source": [
    "smp.limit((x-1) / (x**3-1),x,oo)"
   ]
  },
  {
   "cell_type": "code",
   "execution_count": 10,
   "id": "6d5e1d8e",
   "metadata": {},
   "outputs": [
    {
     "data": {
      "text/latex": [
       "$\\displaystyle 0$"
      ],
      "text/plain": [
       "0"
      ]
     },
     "execution_count": 10,
     "metadata": {},
     "output_type": "execute_result"
    }
   ],
   "source": [
    "smp.limit((x-1) / (x+1),x,1)"
   ]
  },
  {
   "cell_type": "code",
   "execution_count": 11,
   "id": "d4f0b6c8",
   "metadata": {},
   "outputs": [
    {
     "data": {
      "text/latex": [
       "$\\displaystyle \\infty$"
      ],
      "text/plain": [
       "oo"
      ]
     },
     "execution_count": 11,
     "metadata": {},
     "output_type": "execute_result"
    }
   ],
   "source": [
    "smp.limit((x+1) / (x-1),x,1)"
   ]
  },
  {
   "cell_type": "code",
   "execution_count": 12,
   "id": "0537ab7a",
   "metadata": {},
   "outputs": [
    {
     "data": {
      "text/latex": [
       "$\\displaystyle 1$"
      ],
      "text/plain": [
       "1"
      ]
     },
     "execution_count": 12,
     "metadata": {},
     "output_type": "execute_result"
    }
   ],
   "source": [
    "smp.limit(smp.sin(x/2 + smp.sin(x)),x,smp.pi)"
   ]
  },
  {
   "cell_type": "code",
   "execution_count": 18,
   "id": "3da0494e",
   "metadata": {},
   "outputs": [
    {
     "data": {
      "text/latex": [
       "$\\displaystyle \\frac{5}{2}$"
      ],
      "text/plain": [
       "5/2"
      ]
     },
     "execution_count": 18,
     "metadata": {},
     "output_type": "execute_result"
    }
   ],
   "source": [
    "smp.limit((smp.sin(5*x) / smp.sin(2*x)),x,0)"
   ]
  },
  {
   "cell_type": "code",
   "execution_count": 19,
   "id": "b135b1cc",
   "metadata": {},
   "outputs": [
    {
     "data": {
      "text/latex": [
       "$\\displaystyle 1$"
      ],
      "text/plain": [
       "1"
      ]
     },
     "execution_count": 19,
     "metadata": {},
     "output_type": "execute_result"
    }
   ],
   "source": [
    "smp.limit(smp.tan(x+1)/(x+1),x,-1)"
   ]
  },
  {
   "cell_type": "code",
   "execution_count": 20,
   "id": "d014a7ad",
   "metadata": {},
   "outputs": [
    {
     "data": {
      "text/latex": [
       "$\\displaystyle \\infty$"
      ],
      "text/plain": [
       "oo"
      ]
     },
     "execution_count": 20,
     "metadata": {},
     "output_type": "execute_result"
    }
   ],
   "source": [
    "smp.limit((smp.sqrt(x+1)+1)/x,x,0)"
   ]
  },
  {
   "cell_type": "code",
   "execution_count": 21,
   "id": "75db66f2",
   "metadata": {},
   "outputs": [
    {
     "data": {
      "text/latex": [
       "$\\displaystyle \\frac{1}{2}$"
      ],
      "text/plain": [
       "1/2"
      ]
     },
     "execution_count": 21,
     "metadata": {},
     "output_type": "execute_result"
    }
   ],
   "source": [
    "smp.limit((smp.sqrt(x+1)-1)/x,x,0)"
   ]
  },
  {
   "cell_type": "markdown",
   "id": "fe57f9a0",
   "metadata": {},
   "source": [
    "Limits"
   ]
  },
  {
   "cell_type": "markdown",
   "id": "0437d9ad",
   "metadata": {},
   "source": [
    "𝑙𝑖𝑚𝑥𝑡𝑜𝑝𝑖𝑠𝑖𝑛(𝑥/2+𝑠𝑖𝑛(𝑥))"
   ]
  },
  {
   "cell_type": "markdown",
   "id": "24ae68b6",
   "metadata": {},
   "source": [
    "# Mid Practice"
   ]
  },
  {
   "cell_type": "code",
   "execution_count": 4,
   "id": "cc8a49d6",
   "metadata": {},
   "outputs": [
    {
     "data": {
      "text/latex": [
       "$\\displaystyle 3$"
      ],
      "text/plain": [
       "3"
      ]
     },
     "execution_count": 4,
     "metadata": {},
     "output_type": "execute_result"
    }
   ],
   "source": [
    "smp.limit(smp.sin(3*x)/x,x,0)"
   ]
  },
  {
   "cell_type": "code",
   "execution_count": 5,
   "id": "7cc8e142",
   "metadata": {},
   "outputs": [
    {
     "data": {
      "text/latex": [
       "$\\displaystyle \\infty$"
      ],
      "text/plain": [
       "oo"
      ]
     },
     "execution_count": 5,
     "metadata": {},
     "output_type": "execute_result"
    }
   ],
   "source": [
    "smp.limit(smp.cos(x)/(x+1),x,-1)"
   ]
  },
  {
   "cell_type": "code",
   "execution_count": 8,
   "id": "92cc22fa",
   "metadata": {},
   "outputs": [
    {
     "data": {
      "text/latex": [
       "$\\displaystyle \\frac{5}{2}$"
      ],
      "text/plain": [
       "5/2"
      ]
     },
     "execution_count": 8,
     "metadata": {},
     "output_type": "execute_result"
    }
   ],
   "source": [
    "smp.limit(smp.sin(5*x)/sin(2*x),x,0)"
   ]
  },
  {
   "cell_type": "code",
   "execution_count": 7,
   "id": "3d873146",
   "metadata": {},
   "outputs": [
    {
     "data": {
      "text/latex": [
       "$\\displaystyle -\\infty$"
      ],
      "text/plain": [
       "-oo"
      ]
     },
     "execution_count": 7,
     "metadata": {},
     "output_type": "execute_result"
    }
   ],
   "source": [
    "smp.limit(x/(x-3),x,3,'-')"
   ]
  },
  {
   "cell_type": "code",
   "execution_count": 9,
   "id": "754b486f",
   "metadata": {},
   "outputs": [
    {
     "data": {
      "text/latex": [
       "$\\displaystyle 3.00416602394643$"
      ],
      "text/plain": [
       "3.00416602394643"
      ]
     },
     "execution_count": 9,
     "metadata": {},
     "output_type": "execute_result"
    }
   ],
   "source": [
    "smp.limit(((1+x**2)**((1.1)/x**2)),x,0)"
   ]
  },
  {
   "cell_type": "code",
   "execution_count": 10,
   "id": "8ecda6bf",
   "metadata": {},
   "outputs": [
    {
     "data": {
      "text/latex": [
       "$\\displaystyle -\\infty$"
      ],
      "text/plain": [
       "-oo"
      ]
     },
     "execution_count": 10,
     "metadata": {},
     "output_type": "execute_result"
    }
   ],
   "source": [
    "smp.limit((1/x),x,0,'-')"
   ]
  },
  {
   "cell_type": "code",
   "execution_count": 11,
   "id": "427e7cc1",
   "metadata": {},
   "outputs": [
    {
     "data": {
      "text/latex": [
       "$\\displaystyle \\infty$"
      ],
      "text/plain": [
       "oo"
      ]
     },
     "execution_count": 11,
     "metadata": {},
     "output_type": "execute_result"
    }
   ],
   "source": [
    "smp.limit((1/x),x,0,'+')"
   ]
  },
  {
   "cell_type": "code",
   "execution_count": 13,
   "id": "f6ada3ee",
   "metadata": {},
   "outputs": [
    {
     "data": {
      "text/latex": [
       "$\\displaystyle 8$"
      ],
      "text/plain": [
       "8"
      ]
     },
     "execution_count": 13,
     "metadata": {},
     "output_type": "execute_result"
    }
   ],
   "source": [
    "smp.limit((x**2-4*x+3),x,5)"
   ]
  },
  {
   "cell_type": "code",
   "execution_count": 14,
   "id": "bf2b5fff",
   "metadata": {},
   "outputs": [
    {
     "data": {
      "text/latex": [
       "$\\displaystyle 12$"
      ],
      "text/plain": [
       "12"
      ]
     },
     "execution_count": 14,
     "metadata": {},
     "output_type": "execute_result"
    }
   ],
   "source": [
    "smp.limit((x**3+8)/(x+2),x,-2)"
   ]
  },
  {
   "cell_type": "code",
   "execution_count": 15,
   "id": "9f9b6fea",
   "metadata": {},
   "outputs": [
    {
     "data": {
      "text/latex": [
       "$\\displaystyle 0$"
      ],
      "text/plain": [
       "0"
      ]
     },
     "execution_count": 15,
     "metadata": {},
     "output_type": "execute_result"
    }
   ],
   "source": [
    "smp.limit(((smp.sqrt(x**2+4)-2)/x),x,0)"
   ]
  },
  {
   "cell_type": "code",
   "execution_count": 16,
   "id": "10a6d9a7",
   "metadata": {},
   "outputs": [
    {
     "data": {
      "text/latex": [
       "$\\displaystyle \\frac{\\pi}{2}$"
      ],
      "text/plain": [
       "pi/2"
      ]
     },
     "execution_count": 16,
     "metadata": {},
     "output_type": "execute_result"
    }
   ],
   "source": [
    "smp.limit(smp.atan(x),x,oo)"
   ]
  },
  {
   "cell_type": "code",
   "execution_count": 19,
   "id": "5ea98753",
   "metadata": {},
   "outputs": [
    {
     "data": {
      "text/latex": [
       "$\\displaystyle 1$"
      ],
      "text/plain": [
       "1"
      ]
     },
     "execution_count": 19,
     "metadata": {},
     "output_type": "execute_result"
    }
   ],
   "source": [
    "smp.limit((1+(1/x)**x),x,oo,'-')"
   ]
  },
  {
   "cell_type": "code",
   "execution_count": null,
   "id": "af9c92fd",
   "metadata": {},
   "outputs": [],
   "source": []
  }
 ],
 "metadata": {
  "kernelspec": {
   "display_name": "Python 3 (ipykernel)",
   "language": "python",
   "name": "python3"
  },
  "language_info": {
   "codemirror_mode": {
    "name": "ipython",
    "version": 3
   },
   "file_extension": ".py",
   "mimetype": "text/x-python",
   "name": "python",
   "nbconvert_exporter": "python",
   "pygments_lexer": "ipython3",
   "version": "3.9.7"
  }
 },
 "nbformat": 4,
 "nbformat_minor": 5
}
